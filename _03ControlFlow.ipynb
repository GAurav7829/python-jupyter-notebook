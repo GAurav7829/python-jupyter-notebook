{
 "cells": [
  {
   "cell_type": "markdown",
   "id": "56630b19",
   "metadata": {},
   "source": [
    "# Python Control Flow"
   ]
  },
  {
   "cell_type": "markdown",
   "id": "80fa0e3d",
   "metadata": {},
   "source": [
    "## If"
   ]
  },
  {
   "cell_type": "code",
   "execution_count": 3,
   "id": "2bb2ac4b",
   "metadata": {
    "scrolled": true
   },
   "outputs": [
    {
     "name": "stdout",
     "output_type": "stream",
     "text": [
      "Enter Number: 125\n",
      "Number is greater than 100\n"
     ]
    }
   ],
   "source": [
    "val = input(\"Enter Number: \")\n",
    "val_float = float(val)\n",
    "if(val_float>100):\n",
    "    print(\"Number is greater than 100\")"
   ]
  },
  {
   "cell_type": "code",
   "execution_count": 9,
   "id": "1874b5b5",
   "metadata": {
    "scrolled": false
   },
   "outputs": [
    {
     "name": "stdout",
     "output_type": "stream",
     "text": [
      "Odd Number\n"
     ]
    }
   ],
   "source": [
    "#if-else\n",
    "\n",
    "if(val_float%2==0):\n",
    "    print(\"Even Number\")\n",
    "else:\n",
    "    print(\"Odd Number\")"
   ]
  },
  {
   "cell_type": "code",
   "execution_count": 14,
   "id": "4a71767d",
   "metadata": {},
   "outputs": [
    {
     "name": "stdout",
     "output_type": "stream",
     "text": [
      "Enter age: 65\n",
      "Old age\n"
     ]
    }
   ],
   "source": [
    "#nested if else\n",
    "age = float(input(\"Enter age: \"))\n",
    "if(age<18):\n",
    "    print(\"Minor age\")\n",
    "elif(age>=18 and age<=55):\n",
    "    print(\"Mid age\")\n",
    "else:\n",
    "    print(\"Old age\")"
   ]
  },
  {
   "cell_type": "code",
   "execution_count": 16,
   "id": "8cdde60a",
   "metadata": {},
   "outputs": [
    {
     "name": "stdout",
     "output_type": "stream",
     "text": [
      "Enter age: 15\n",
      "Minor age\n",
      "You are in college\n"
     ]
    }
   ],
   "source": [
    "#nested if else\n",
    "age = float(input(\"Enter age: \"))\n",
    "if(age<18):\n",
    "    print(\"Minor age\")\n",
    "    if(age<15):\n",
    "        print(\"You are in school\")\n",
    "    else:\n",
    "        print(\"You are in college\")\n",
    "elif(age>=18 and age<=55):\n",
    "    print(\"Mid age\")\n",
    "else:\n",
    "    print(\"Old age\")"
   ]
  },
  {
   "cell_type": "markdown",
   "id": "95716280",
   "metadata": {},
   "source": [
    "## for loop"
   ]
  },
  {
   "cell_type": "code",
   "execution_count": 19,
   "id": "be2a6a42",
   "metadata": {},
   "outputs": [
    {
     "name": "stdout",
     "output_type": "stream",
     "text": [
      "15\n"
     ]
    }
   ],
   "source": [
    "#sum of elements in list\n",
    "sum1 = 0 #sum is internal variable in python\n",
    "lst = [1,2,3,4,5]\n",
    "for i in lst:\n",
    "    sum1 += i\n",
    "print(sum1)"
   ]
  },
  {
   "cell_type": "code",
   "execution_count": 21,
   "id": "efe79545",
   "metadata": {},
   "outputs": [
    {
     "name": "stdout",
     "output_type": "stream",
     "text": [
      "Sum of even numbers:  6\n",
      "Sum of odd numbers:  9\n"
     ]
    }
   ],
   "source": [
    "#sum of even and odd numbers\n",
    "evenSum = 0\n",
    "oddSum = 0\n",
    "for i in lst:\n",
    "    if(i%2==0):\n",
    "        evenSum += i\n",
    "    else:\n",
    "        oddSum += i\n",
    "print(\"Sum of even numbers: \", evenSum)\n",
    "print(\"Sum of odd numbers: \", oddSum)"
   ]
  },
  {
   "cell_type": "markdown",
   "id": "6d18f7c9",
   "metadata": {},
   "source": [
    "## While loop"
   ]
  },
  {
   "cell_type": "code",
   "execution_count": 25,
   "id": "a4ab33df",
   "metadata": {},
   "outputs": [
    {
     "name": "stdout",
     "output_type": "stream",
     "text": [
      "1\n",
      "2\n",
      "3\n",
      "4\n",
      "5\n",
      "6\n",
      "7\n",
      "8\n",
      "9\n",
      "10\n"
     ]
    }
   ],
   "source": [
    "i = 1\n",
    "while(i<=10):\n",
    "    print(i)\n",
    "    i = i+1"
   ]
  },
  {
   "cell_type": "code",
   "execution_count": 1,
   "id": "5ec2c84f",
   "metadata": {},
   "outputs": [
    {
     "name": "stdout",
     "output_type": "stream",
     "text": [
      "1\n",
      "2\n",
      "3\n"
     ]
    }
   ],
   "source": [
    "#break in loop\n",
    "x = 1\n",
    "while(x<7):\n",
    "    if(x==4):\n",
    "        break;\n",
    "    print(x)\n",
    "    x = x+1"
   ]
  },
  {
   "cell_type": "code",
   "execution_count": 1,
   "id": "0678b639",
   "metadata": {},
   "outputs": [
    {
     "name": "stdout",
     "output_type": "stream",
     "text": [
      "1\n",
      "2\n",
      "3\n",
      "5\n",
      "6\n",
      "7\n"
     ]
    }
   ],
   "source": [
    "#continue in loop\n",
    "y = 0\n",
    "while(y<7):\n",
    "    y = y+1\n",
    "    if(y==4):\n",
    "        continue;\n",
    "    print(y)"
   ]
  },
  {
   "cell_type": "code",
   "execution_count": null,
   "id": "60ff892e",
   "metadata": {},
   "outputs": [],
   "source": []
  },
  {
   "cell_type": "code",
   "execution_count": null,
   "id": "8e6ef4ab",
   "metadata": {},
   "outputs": [],
   "source": []
  },
  {
   "cell_type": "code",
   "execution_count": null,
   "id": "a1168a9b",
   "metadata": {},
   "outputs": [],
   "source": []
  }
 ],
 "metadata": {
  "kernelspec": {
   "display_name": "Python 3 (ipykernel)",
   "language": "python",
   "name": "python3"
  },
  "language_info": {
   "codemirror_mode": {
    "name": "ipython",
    "version": 3
   },
   "file_extension": ".py",
   "mimetype": "text/x-python",
   "name": "python",
   "nbconvert_exporter": "python",
   "pygments_lexer": "ipython3",
   "version": "3.9.7"
  }
 },
 "nbformat": 4,
 "nbformat_minor": 5
}
