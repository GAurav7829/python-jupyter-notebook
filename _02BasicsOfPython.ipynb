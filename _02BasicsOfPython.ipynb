{
 "cells": [
  {
   "cell_type": "markdown",
   "id": "231c6ec4",
   "metadata": {},
   "source": [
    "# Basics of Python"
   ]
  },
  {
   "cell_type": "code",
   "execution_count": 1,
   "id": "1c8a9756",
   "metadata": {},
   "outputs": [
    {
     "name": "stdout",
     "output_type": "stream",
     "text": [
      "Hello World\n",
      "Welcome to Python\n"
     ]
    }
   ],
   "source": [
    "print(\"Hello World\")\n",
    "print(\"Welcome to Python\")"
   ]
  },
  {
   "cell_type": "code",
   "execution_count": 4,
   "id": "bddb25cb",
   "metadata": {},
   "outputs": [
    {
     "name": "stdout",
     "output_type": "stream",
     "text": [
      "Hello\n"
     ]
    }
   ],
   "source": [
    "#Single line and Multi-line comments\n",
    "'''\n",
    "    Wecome to Python\n",
    "    this is multipline comment\n",
    "'''\n",
    "print(\"Hello\")"
   ]
  },
  {
   "cell_type": "code",
   "execution_count": 2,
   "id": "9a6049af",
   "metadata": {},
   "outputs": [
    {
     "data": {
      "text/plain": [
       "int"
      ]
     },
     "execution_count": 2,
     "metadata": {},
     "output_type": "execute_result"
    }
   ],
   "source": [
    "#variable declaration\n",
    "a = 10\n",
    "type(a)"
   ]
  },
  {
   "cell_type": "code",
   "execution_count": 3,
   "id": "32cf5afd",
   "metadata": {},
   "outputs": [
    {
     "data": {
      "text/plain": [
       "10"
      ]
     },
     "execution_count": 3,
     "metadata": {},
     "output_type": "execute_result"
    }
   ],
   "source": [
    "a"
   ]
  },
  {
   "cell_type": "code",
   "execution_count": 7,
   "id": "267055d3",
   "metadata": {},
   "outputs": [
    {
     "data": {
      "text/plain": [
       "str"
      ]
     },
     "execution_count": 7,
     "metadata": {},
     "output_type": "execute_result"
    }
   ],
   "source": [
    "c = \"grv\"\n",
    "type(c)"
   ]
  },
  {
   "cell_type": "code",
   "execution_count": 8,
   "id": "c5ddbcbc",
   "metadata": {},
   "outputs": [
    {
     "name": "stdout",
     "output_type": "stream",
     "text": [
      "grv\n"
     ]
    }
   ],
   "source": [
    "print(c)"
   ]
  },
  {
   "cell_type": "markdown",
   "id": "d114564f",
   "metadata": {},
   "source": [
    "## Integer"
   ]
  },
  {
   "cell_type": "code",
   "execution_count": 9,
   "id": "6891f357",
   "metadata": {},
   "outputs": [
    {
     "data": {
      "text/plain": [
       "int"
      ]
     },
     "execution_count": 9,
     "metadata": {},
     "output_type": "execute_result"
    }
   ],
   "source": [
    "a = 10\n",
    "type(a)"
   ]
  },
  {
   "cell_type": "code",
   "execution_count": 10,
   "id": "f39fe598",
   "metadata": {},
   "outputs": [
    {
     "name": "stdout",
     "output_type": "stream",
     "text": [
      "<class 'int'>\n"
     ]
    }
   ],
   "source": [
    "print(type(a))"
   ]
  },
  {
   "cell_type": "code",
   "execution_count": 11,
   "id": "8be192e4",
   "metadata": {},
   "outputs": [
    {
     "name": "stdout",
     "output_type": "stream",
     "text": [
      "30\n"
     ]
    }
   ],
   "source": [
    "a = 10\n",
    "b = 20\n",
    "print(a+b)"
   ]
  },
  {
   "cell_type": "markdown",
   "id": "e20c5a67",
   "metadata": {},
   "source": [
    "## floating"
   ]
  },
  {
   "cell_type": "code",
   "execution_count": 2,
   "id": "95d3f686",
   "metadata": {},
   "outputs": [
    {
     "data": {
      "text/plain": [
       "10.5"
      ]
     },
     "execution_count": 2,
     "metadata": {},
     "output_type": "execute_result"
    }
   ],
   "source": [
    "a = 10.5\n",
    "a"
   ]
  },
  {
   "cell_type": "code",
   "execution_count": 3,
   "id": "776c1ed5",
   "metadata": {},
   "outputs": [
    {
     "name": "stdout",
     "output_type": "stream",
     "text": [
      "<class 'float'>\n"
     ]
    }
   ],
   "source": [
    "print(type(a))"
   ]
  },
  {
   "cell_type": "code",
   "execution_count": 5,
   "id": "5d319446",
   "metadata": {},
   "outputs": [
    {
     "data": {
      "text/plain": [
       "10"
      ]
     },
     "execution_count": 5,
     "metadata": {},
     "output_type": "execute_result"
    }
   ],
   "source": [
    "int(a) #float to int"
   ]
  },
  {
   "cell_type": "code",
   "execution_count": 6,
   "id": "59325401",
   "metadata": {},
   "outputs": [
    {
     "data": {
      "text/plain": [
       "10.0"
      ]
     },
     "execution_count": 6,
     "metadata": {},
     "output_type": "execute_result"
    }
   ],
   "source": [
    "b = 10\n",
    "float(b) #int to float"
   ]
  },
  {
   "cell_type": "markdown",
   "id": "fcf9b7dc",
   "metadata": {},
   "source": [
    "# boolean"
   ]
  },
  {
   "cell_type": "code",
   "execution_count": 7,
   "id": "85456b95",
   "metadata": {},
   "outputs": [],
   "source": [
    "a1 = True\n",
    "b1 = False"
   ]
  },
  {
   "cell_type": "code",
   "execution_count": 8,
   "id": "b607b8e8",
   "metadata": {},
   "outputs": [
    {
     "data": {
      "text/plain": [
       "bool"
      ]
     },
     "execution_count": 8,
     "metadata": {},
     "output_type": "execute_result"
    }
   ],
   "source": [
    "type(a1)"
   ]
  },
  {
   "cell_type": "code",
   "execution_count": 9,
   "id": "001ab571",
   "metadata": {},
   "outputs": [
    {
     "data": {
      "text/plain": [
       "False"
      ]
     },
     "execution_count": 9,
     "metadata": {},
     "output_type": "execute_result"
    }
   ],
   "source": [
    "a1 and b1"
   ]
  },
  {
   "cell_type": "code",
   "execution_count": 10,
   "id": "310a1b69",
   "metadata": {},
   "outputs": [
    {
     "data": {
      "text/plain": [
       "True"
      ]
     },
     "execution_count": 10,
     "metadata": {},
     "output_type": "execute_result"
    }
   ],
   "source": [
    "a1 or b1"
   ]
  },
  {
   "cell_type": "code",
   "execution_count": 13,
   "id": "b604172a",
   "metadata": {},
   "outputs": [
    {
     "data": {
      "text/plain": [
       "False"
      ]
     },
     "execution_count": 13,
     "metadata": {},
     "output_type": "execute_result"
    }
   ],
   "source": [
    "a1 & b1 #logical and"
   ]
  },
  {
   "cell_type": "code",
   "execution_count": 14,
   "id": "59abb89c",
   "metadata": {},
   "outputs": [
    {
     "data": {
      "text/plain": [
       "True"
      ]
     },
     "execution_count": 14,
     "metadata": {},
     "output_type": "execute_result"
    }
   ],
   "source": [
    "a1 | b1 #logical or"
   ]
  },
  {
   "cell_type": "markdown",
   "id": "6219f801",
   "metadata": {},
   "source": [
    "## String"
   ]
  },
  {
   "cell_type": "code",
   "execution_count": 17,
   "id": "34e784c7",
   "metadata": {},
   "outputs": [
    {
     "name": "stdout",
     "output_type": "stream",
     "text": [
      "grv\n",
      "<class 'str'>\n"
     ]
    }
   ],
   "source": [
    "name = \"grv\"\n",
    "print(name)\n",
    "print(type(name))"
   ]
  },
  {
   "cell_type": "code",
   "execution_count": 18,
   "id": "6f868005",
   "metadata": {},
   "outputs": [
    {
     "data": {
      "text/plain": [
       "'grvsgh'"
      ]
     },
     "execution_count": 18,
     "metadata": {},
     "output_type": "execute_result"
    }
   ],
   "source": [
    "name + \"sgh\""
   ]
  },
  {
   "cell_type": "code",
   "execution_count": 20,
   "id": "c5b5096d",
   "metadata": {},
   "outputs": [
    {
     "data": {
      "text/plain": [
       "'grv1'"
      ]
     },
     "execution_count": 20,
     "metadata": {},
     "output_type": "execute_result"
    }
   ],
   "source": [
    "name + str(1)"
   ]
  },
  {
   "cell_type": "markdown",
   "id": "df2f6a25",
   "metadata": {},
   "source": [
    "## Complex Numbers"
   ]
  },
  {
   "cell_type": "code",
   "execution_count": 21,
   "id": "f0fadac4",
   "metadata": {},
   "outputs": [
    {
     "data": {
      "text/plain": [
       "(1-2.3j)"
      ]
     },
     "execution_count": 21,
     "metadata": {},
     "output_type": "execute_result"
    }
   ],
   "source": [
    "j = 1.0 - 2.3j\n",
    "j"
   ]
  },
  {
   "cell_type": "code",
   "execution_count": 23,
   "id": "baac3e4e",
   "metadata": {},
   "outputs": [
    {
     "name": "stdout",
     "output_type": "stream",
     "text": [
      "Real Number: 1.0 Imaginary Number:  -2.3\n"
     ]
    }
   ],
   "source": [
    "print(\"Real Number:\", j.real, \"Imaginary Number: \", j.imag)"
   ]
  },
  {
   "cell_type": "markdown",
   "id": "a84f7f4d",
   "metadata": {},
   "source": [
    "## Dynamic Typing"
   ]
  },
  {
   "cell_type": "code",
   "execution_count": 25,
   "id": "d9e8e472",
   "metadata": {},
   "outputs": [],
   "source": [
    "a = 10\n",
    "a = \"grv\""
   ]
  },
  {
   "cell_type": "markdown",
   "id": "3daf34d0",
   "metadata": {},
   "source": [
    "## Strong Typing"
   ]
  },
  {
   "cell_type": "code",
   "execution_count": 27,
   "id": "300e3243",
   "metadata": {},
   "outputs": [
    {
     "ename": "TypeError",
     "evalue": "can only concatenate str (not \"int\") to str",
     "output_type": "error",
     "traceback": [
      "\u001b[1;31m---------------------------------------------------------------------------\u001b[0m",
      "\u001b[1;31mTypeError\u001b[0m                                 Traceback (most recent call last)",
      "\u001b[1;32m~\\AppData\\Local\\Temp/ipykernel_1908/349934585.py\u001b[0m in \u001b[0;36m<module>\u001b[1;34m\u001b[0m\n\u001b[1;32m----> 1\u001b[1;33m \u001b[0ma\u001b[0m \u001b[1;33m=\u001b[0m \u001b[1;34m\"grv\"\u001b[0m \u001b[1;33m+\u001b[0m \u001b[1;36m1\u001b[0m\u001b[1;33m\u001b[0m\u001b[1;33m\u001b[0m\u001b[0m\n\u001b[0m",
      "\u001b[1;31mTypeError\u001b[0m: can only concatenate str (not \"int\") to str"
     ]
    }
   ],
   "source": [
    "a = \"grv\" + 1"
   ]
  },
  {
   "cell_type": "code",
   "execution_count": 29,
   "id": "356ad6c2",
   "metadata": {},
   "outputs": [
    {
     "data": {
      "text/plain": [
       "'grv11'"
      ]
     },
     "execution_count": 29,
     "metadata": {},
     "output_type": "execute_result"
    }
   ],
   "source": [
    "a + \"1\""
   ]
  },
  {
   "cell_type": "markdown",
   "id": "3fbaeed6",
   "metadata": {},
   "source": [
    "## String Formatting"
   ]
  },
  {
   "cell_type": "code",
   "execution_count": 32,
   "id": "25d19bf4",
   "metadata": {},
   "outputs": [
    {
     "name": "stdout",
     "output_type": "stream",
     "text": [
      "Value is  100\n"
     ]
    }
   ],
   "source": [
    "a = 100\n",
    "print(\"Value is \", a)"
   ]
  },
  {
   "cell_type": "code",
   "execution_count": 33,
   "id": "9f6a6a07",
   "metadata": {},
   "outputs": [
    {
     "name": "stdout",
     "output_type": "stream",
     "text": [
      "The first name is grv and last name is sgh\n"
     ]
    }
   ],
   "source": [
    "first_name = \"grv\"\n",
    "last_name = \"sgh\"\n",
    "print(\"The first name is {} and last name is {}\".format(first_name, last_name))"
   ]
  },
  {
   "cell_type": "code",
   "execution_count": 35,
   "id": "e087d977",
   "metadata": {},
   "outputs": [
    {
     "name": "stdout",
     "output_type": "stream",
     "text": [
      "The first name is grv and last name is sgh\n"
     ]
    }
   ],
   "source": [
    "print(\"The first name is {1} and last name is {0}\".format(last_name, first_name))"
   ]
  },
  {
   "cell_type": "code",
   "execution_count": 36,
   "id": "a9be107e",
   "metadata": {},
   "outputs": [
    {
     "name": "stdout",
     "output_type": "stream",
     "text": [
      "The first name is grv and last name is sgh\n"
     ]
    }
   ],
   "source": [
    "print(\"The first name is {a} and last name is {b}\".format(b=last_name, a=first_name))"
   ]
  },
  {
   "cell_type": "markdown",
   "id": "c5f3f312",
   "metadata": {},
   "source": [
    "## Input type"
   ]
  },
  {
   "cell_type": "code",
   "execution_count": 37,
   "id": "7dc58aff",
   "metadata": {},
   "outputs": [
    {
     "name": "stdout",
     "output_type": "stream",
     "text": [
      "Enter name grv\n"
     ]
    },
    {
     "data": {
      "text/plain": [
       "'grv'"
      ]
     },
     "execution_count": 37,
     "metadata": {},
     "output_type": "execute_result"
    }
   ],
   "source": [
    "input(\"Enter name \")"
   ]
  },
  {
   "cell_type": "code",
   "execution_count": 41,
   "id": "09d1bbd3",
   "metadata": {},
   "outputs": [
    {
     "name": "stdout",
     "output_type": "stream",
     "text": [
      "Enter a: 1\n",
      "Enter b: 2\n",
      "3\n"
     ]
    }
   ],
   "source": [
    "a = input(\"Enter a: \")\n",
    "b = input(\"Enter b: \")\n",
    "print(int(a) + int(b))"
   ]
  },
  {
   "cell_type": "code",
   "execution_count": null,
   "id": "fa577882",
   "metadata": {},
   "outputs": [],
   "source": []
  },
  {
   "cell_type": "code",
   "execution_count": null,
   "id": "8c16827c",
   "metadata": {},
   "outputs": [],
   "source": []
  }
 ],
 "metadata": {
  "kernelspec": {
   "display_name": "Python 3 (ipykernel)",
   "language": "python",
   "name": "python3"
  },
  "language_info": {
   "codemirror_mode": {
    "name": "ipython",
    "version": 3
   },
   "file_extension": ".py",
   "mimetype": "text/x-python",
   "name": "python",
   "nbconvert_exporter": "python",
   "pygments_lexer": "ipython3",
   "version": "3.9.7"
  }
 },
 "nbformat": 4,
 "nbformat_minor": 5
}
